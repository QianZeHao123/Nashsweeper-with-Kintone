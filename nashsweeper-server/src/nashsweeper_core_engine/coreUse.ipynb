{
 "cells": [
  {
   "attachments": {},
   "cell_type": "markdown",
   "metadata": {},
   "source": [
    "# Nashsweeper Core Library for Industry and Data Science\n",
    "This is the Nashsweeper-Core-Computing-Engine's jupyter notebook version. You can invoke the coreCalc function from engine and use it in any dimension you need.\n",
    "\n",
    "Using numpy to reshape the data from a list to numpy array."
   ]
  },
  {
   "cell_type": "code",
   "execution_count": 1,
   "metadata": {},
   "outputs": [],
   "source": [
    "import numpy\n",
    "from coreCalc import users_strategy_lst_gen, strategy_combination_lst_gen, id_lst_gen\n"
   ]
  },
  {
   "attachments": {},
   "cell_type": "markdown",
   "metadata": {},
   "source": [
    "### Insert the Unit Test Data\n"
   ]
  },
  {
   "cell_type": "code",
   "execution_count": 2,
   "metadata": {},
   "outputs": [],
   "source": [
    "test_strategy_matrix = [[76, 97], [72, 67], [25, 84], [73, 46], [93, 20], [12, 44], [68, 93], [20, 87], [43, 24],\n",
    "                        [68, 44], [62, 97], [72, 66], [96, 16], [42, 3], [14, 44], [\n",
    "    51, 37], [63, 40], [76, 86], [43, 66], [13, 63],\n",
    "    [6, 92], [15, 15], [68, 19], [69, 77], [49, 90], [29, 43], [\n",
    "    75, 93], [18, 70], [0, 31], [99, 96], [5, 71], [4, 5],\n",
    "    [50, 68], [69, 52], [22, 59], [57, 37], [60, 5], [1, 93], [\n",
    "    55, 64], [45, 51], [46, 18], [87, 12], [32, 0], [37, 85],\n",
    "    [43, 3], [70, 93], [53, 62], [26, 18], [80, 8], [85, 13], [\n",
    "    54, 80], [37, 43], [23, 11], [91, 48], [85, 57], [53, 25],\n",
    "    [71, 90], [35, 57], [87, 98], [57, 32], [41, 25], [28, 94], [100, 14], [68, 53]]\n"
   ]
  },
  {
   "cell_type": "code",
   "execution_count": 3,
   "metadata": {},
   "outputs": [],
   "source": [
    "test_strategy_matrix_array = numpy.array(test_strategy_matrix).reshape(8, 8, 2)\n",
    "# test_strategy_matrix_array\n"
   ]
  },
  {
   "cell_type": "code",
   "execution_count": 4,
   "metadata": {},
   "outputs": [],
   "source": [
    "data_input_size = list(test_strategy_matrix_array.shape)\n",
    "UserStrategyNum = data_input_size[:-1]\n",
    "N = data_input_size[-1]\n",
    "\n",
    "users_strategy_lst = users_strategy_lst_gen(UserStrategyNum)\n",
    "strategy_combination = strategy_combination_lst_gen(users_strategy_lst)\n",
    "id_lst = id_lst_gen(strategy_combination)\n"
   ]
  },
  {
   "cell_type": "code",
   "execution_count": 5,
   "metadata": {},
   "outputs": [],
   "source": [
    "for i in range(len(id_lst)):\n",
    "    lst = [int(j) for j in id_lst[i].split(\"_\")]\n",
    "    # print(id_lst[i], lst[0], lst[1], test_strategy_matrix_array[lst[0]][lst[1]])\n"
   ]
  },
  {
   "attachments": {},
   "cell_type": "markdown",
   "metadata": {},
   "source": [
    "### Initialized Database for storing the data\n",
    "* Create a new SQLite database called \"InitData.db\"\n",
    "* Create a table called \"GameData\" in InitData\n",
    "\n",
    "Please make sure that there is no Database file in current directory"
   ]
  },
  {
   "cell_type": "code",
   "execution_count": 6,
   "metadata": {},
   "outputs": [],
   "source": [
    "# Data Preparation\n",
    "DatabaseData = []\n",
    "for _ in range(len(id_lst)):\n",
    "    tupChild = (id_lst[_], test_strategy_matrix[_]\n",
    "                [0], test_strategy_matrix[_][1])\n",
    "    DatabaseData.append(tupChild)\n"
   ]
  },
  {
   "cell_type": "code",
   "execution_count": 7,
   "metadata": {},
   "outputs": [
    {
     "name": "stdout",
     "output_type": "stream",
     "text": [
      "64\n"
     ]
    }
   ],
   "source": [
    "import sqlite3\n",
    "# connect to sqlite database\n",
    "# Database Name: InitData\n",
    "# if not exist, create it at current working directory\n",
    "conn = sqlite3.connect('./InitData.db')\n",
    "# SQLite is based on cursor\n",
    "# create Cursor:\n",
    "cursor = conn.cursor()\n",
    "# execute a SQL command, create user table:\n",
    "cursor.execute(\n",
    "    'CREATE TABLE GameData (id TEXT, PayoffOne NUMBER, PayoffTwo NUMBER);')\n",
    "# execute another SQL command, insert a record:\n",
    "cursor.executemany(\n",
    "    \"insert into GameData (id, PayoffOne, PayoffTwo) values (?, ?, ?)\", DatabaseData)\n",
    "\n",
    "# rowcount: Get the number of rows in the table:\n",
    "print(cursor.rowcount)\n",
    "\n",
    "# Closing Cursor:\n",
    "cursor.close()\n",
    "\n",
    "# commit to database\n",
    "conn.commit()\n",
    "\n",
    "# Close Connection:\n",
    "conn.close()\n"
   ]
  },
  {
   "cell_type": "code",
   "execution_count": 8,
   "metadata": {},
   "outputs": [
    {
     "name": "stdout",
     "output_type": "stream",
     "text": [
      "[('0_0', 76, 97), ('0_1', 72, 67), ('0_2', 25, 84), ('0_3', 73, 46), ('0_4', 93, 20), ('0_5', 12, 44), ('0_6', 68, 93), ('0_7', 20, 87), ('1_0', 43, 24), ('1_1', 68, 44), ('1_2', 62, 97), ('1_3', 72, 66), ('1_4', 96, 16), ('1_5', 42, 3), ('1_6', 14, 44), ('1_7', 51, 37), ('2_0', 63, 40), ('2_1', 76, 86), ('2_2', 43, 66), ('2_3', 13, 63), ('2_4', 6, 92), ('2_5', 15, 15), ('2_6', 68, 19), ('2_7', 69, 77), ('3_0', 49, 90), ('3_1', 29, 43), ('3_2', 75, 93), ('3_3', 18, 70), ('3_4', 0, 31), ('3_5', 99, 96), ('3_6', 5, 71), ('3_7', 4, 5), ('4_0', 50, 68), ('4_1', 69, 52), ('4_2', 22, 59), ('4_3', 57, 37), ('4_4', 60, 5), ('4_5', 1, 93), ('4_6', 55, 64), ('4_7', 45, 51), ('5_0', 46, 18), ('5_1', 87, 12), ('5_2', 32, 0), ('5_3', 37, 85), ('5_4', 43, 3), ('5_5', 70, 93), ('5_6', 53, 62), ('5_7', 26, 18), ('6_0', 80, 8), ('6_1', 85, 13), ('6_2', 54, 80), ('6_3', 37, 43), ('6_4', 23, 11), ('6_5', 91, 48), ('6_6', 85, 57), ('6_7', 53, 25), ('7_0', 71, 90), ('7_1', 35, 57), ('7_2', 87, 98), ('7_3', 57, 32), ('7_4', 41, 25), ('7_5', 28, 94), ('7_6', 100, 14), ('7_7', 68, 53)]\n"
     ]
    }
   ],
   "source": [
    "conn = sqlite3.connect('./InitData.db')\n",
    "cursor = conn.cursor()\n",
    "cursor.execute(\"SELECT * FROM GameData;\")\n",
    "rows = cursor.fetchall()\n",
    "print(rows)\n",
    "cursor.close()\n",
    "conn.close()\n"
   ]
  },
  {
   "cell_type": "code",
   "execution_count": null,
   "metadata": {},
   "outputs": [],
   "source": []
  }
 ],
 "metadata": {
  "kernelspec": {
   "display_name": "nashsweeper",
   "language": "python",
   "name": "python3"
  },
  "language_info": {
   "codemirror_mode": {
    "name": "ipython",
    "version": 3
   },
   "file_extension": ".py",
   "mimetype": "text/x-python",
   "name": "python",
   "nbconvert_exporter": "python",
   "pygments_lexer": "ipython3",
   "version": "3.9.16"
  },
  "orig_nbformat": 4
 },
 "nbformat": 4,
 "nbformat_minor": 2
}
